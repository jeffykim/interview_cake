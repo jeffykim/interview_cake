{
 "cells": [
  {
   "cell_type": "markdown",
   "metadata": {},
   "source": [
    "I want to learn some big words so people think I'm smart.\n",
    "\n",
    "I opened up a dictionary to a page in the middle and started flipping through, looking for words I didn't know. I put each word I didn't know at increasing indices in a huge list I created in memory. When I reached the end of the dictionary, I started from the beginning and did the same thing until I reached the page I started at.\n",
    "\n",
    "Now I have a list of words that are mostly alphabetical, except they start somewhere in the middle of the alphabet, reach the end, and then start from the beginning of the alphabet. In other words, this is an alphabetically ordered list that has been \"rotated.\" For example:\n",
    "\n",
    "  words = [\n",
    "    'ptolemaic',\n",
    "    'retrograde',\n",
    "    'supplant',\n",
    "    'undulate',\n",
    "    'xenoepist',\n",
    "    'asymptote',  # <-- rotates here!\n",
    "    'babka',\n",
    "    'banoffee',\n",
    "    'engender',\n",
    "    'karpatka',\n",
    "    'othellolagkage',\n",
    "]\n",
    "\n",
    "Write a function for finding the index of the \"rotation point,\" which is where I started working from the beginning of the dictionary. This list is huge (there are lots of words I don't know) so we want to be efficient here."
   ]
  },
  {
   "cell_type": "code",
   "execution_count": 18,
   "metadata": {
    "collapsed": true
   },
   "outputs": [],
   "source": [
    "def find_rotation_point(words):\n",
    "\n",
    "    # Find the rotation point in the list\n",
    "    rotation_index = -1\n",
    "    # the rotation index will be at the point where the previous value will be Greater then the current tested value.\n",
    "    \n",
    "    ceiling_index = len(words)-1\n",
    "    starting_index = 0\n",
    "    while starting_index<ceiling_index:\n",
    "        guess_range = ceiling_index+starting_index\n",
    "        guess_index= guess_range//2+(guess_range%2>0)\n",
    "        \n",
    "        if words[guess_index-1]>words[guess_index]:\n",
    "            rotation_index=guess_index\n",
    "            break\n",
    "        elif words[guess_index]<words[ceiling_index]:\n",
    "            ceiling_index= guess_index\n",
    "        elif words[guess_index]>words[ceiling_index]:\n",
    "            starting_index= guess_index\n",
    "\n",
    "    return rotation_index\n",
    "\n",
    "\n",
    "\n",
    "\n"
   ]
  },
  {
   "cell_type": "code",
   "execution_count": 19,
   "metadata": {},
   "outputs": [
    {
     "name": "stderr",
     "output_type": "stream",
     "text": [
      "test_large_list (__main__.Test) ... ok\n",
      "test_medium_list (__main__.Test) ... ok\n",
      "test_small_list (__main__.Test) ... ok\n",
      "\n",
      "----------------------------------------------------------------------\n",
      "Ran 3 tests in 0.006s\n",
      "\n",
      "OK\n"
     ]
    },
    {
     "data": {
      "text/plain": [
       "<unittest.main.TestProgram at 0x241bd9b58d0>"
      ]
     },
     "execution_count": 19,
     "metadata": {},
     "output_type": "execute_result"
    }
   ],
   "source": [
    "import unittest\n",
    "\n",
    "class Test(unittest.TestCase):\n",
    "\n",
    "    def test_small_list(self):\n",
    "        actual = find_rotation_point(['cape', 'cake'])\n",
    "        expected = 1\n",
    "        self.assertEqual(actual, expected)\n",
    "\n",
    "    def test_medium_list(self):\n",
    "        actual = find_rotation_point(['grape', 'orange', 'plum',\n",
    "                                      'radish', 'apple'])\n",
    "        expected = 4\n",
    "        self.assertEqual(actual, expected)\n",
    "\n",
    "    def test_large_list(self):\n",
    "        actual = find_rotation_point(['ptolemaic', 'retrograde', 'supplant',\n",
    "                                      'undulate', 'xenoepist', 'asymptote',\n",
    "                                      'babka', 'banoffee', 'engender',\n",
    "                                      'karpatka', 'othellolagkage'])\n",
    "        expected = 5\n",
    "        self.assertEqual(actual, expected)\n",
    "\n",
    "    # Are we missing any edge cases?\n",
    "\n",
    "\n",
    "unittest.main(argv= ['first-arg-is-ignored'],exit=False,verbosity=2)"
   ]
  },
  {
   "cell_type": "code",
   "execution_count": null,
   "metadata": {
    "collapsed": true
   },
   "outputs": [],
   "source": []
  }
 ],
 "metadata": {
  "kernelspec": {
   "display_name": "Python 3",
   "language": "python",
   "name": "python3"
  },
  "language_info": {
   "codemirror_mode": {
    "name": "ipython",
    "version": 3
   },
   "file_extension": ".py",
   "mimetype": "text/x-python",
   "name": "python",
   "nbconvert_exporter": "python",
   "pygments_lexer": "ipython3",
   "version": "3.6.3"
  }
 },
 "nbformat": 4,
 "nbformat_minor": 2
}
