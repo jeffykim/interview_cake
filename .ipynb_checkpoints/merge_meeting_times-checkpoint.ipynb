{
 "cells": [
  {
   "cell_type": "markdown",
   "metadata": {
    "collapsed": true
   },
   "source": [
    "From the interview cake website\n",
    "Your company built an in-house calendar tool called HiCal. You want to add a feature to see the times in a day when everyone is available.\n",
    "\n",
    "To do this, you’ll need to know when any team is having a meeting. In HiCal, a meeting is stored as a tuple ↴ of integers (start_time, end_time). These integers represent the number of 30-minute blocks past 9:00am.\n",
    "\n",
    "For example:\n",
    "\n",
    "(2, 3)  # Meeting from 10:00 – 10:30 am\n",
    "(6, 9)  # Meeting from 12:00 – 1:30 pm\n",
    "\n",
    "Write a function merge_ranges() that takes a list of multiple meeting time ranges and returns a list of condensed ranges.\n",
    "\n",
    "For example, given:\n",
    "\n",
    "  [(0, 1), (3, 5), (4, 8), (10, 12), (9, 10)]\n",
    " \n",
    "your function would return:\n",
    "\n",
    "  [(0, 1), (3, 8), (9, 12)]\n",
    " \n",
    "Do not assume the meetings are in order. The meeting times are coming from multiple teams.\n",
    "\n",
    "Write a solution that's efficient even when we can't put a nice upper bound on the numbers representing our time ranges. Here we've simplified our times down to the number of 30-minute slots past 9:00 am. But we want the function to work even for very large numbers, like Unix timestamps. In any case, the spirit of the challenge is to merge meetings where start_time and end_time don't have an upper bound.\n"
   ]
  },
  {
   "cell_type": "code",
   "execution_count": 3,
   "metadata": {
    "collapsed": true
   },
   "outputs": [],
   "source": [
    "import unittest\n",
    "\n",
    "\n",
    "def merge_ranges(meetings):\n",
    "    \n",
    "    #an easy way to sort a list is by using the python list method sort()\n",
    "    # or another way is sorted() a built in python function\n",
    "    meetings.sort()\n",
    "    print(meetings)# this confirms that the meetings are sorted\n",
    "    \n",
    "    #after this you now know the first beginning meeting time won't conflict\n",
    "    #with the next meeting start time.\n",
    "    \n",
    "    \n",
    "    #And then you can compare the end of the\n",
    "    # previous meeting with the start time of the next meeting.\n",
    "    #if the end of the first meeting is larger than or equal to the start of the second\n",
    "    # you merge\n",
    "    # if the end of the first meeting is less than the second meeting\n",
    "    # you add it to the list\n",
    "    merged_meetings =[]\n",
    "    my_iter = iter(range(0, len(meetings)-1))\n",
    "    for first_meeting in my_iter:\n",
    "        first_start, first_end = meetings[first_meeting]\n",
    "        second_start, second_end = meetings[first_meeting+1]\n",
    "        if first_end <second_start:\n",
    "            merged_meetings.append((first_start,first_end))\n",
    "        else:\n",
    "            merged_meetings.append((first_start, second_end))\n",
    "            next(my_iter, None)\n",
    "            \n",
    "        \n",
    "        \n",
    "    return merged_meetings\n"
   ]
  },
  {
   "cell_type": "code",
   "execution_count": null,
   "metadata": {
    "collapsed": true
   },
   "outputs": [],
   "source": [
    "import unittest\n",
    "\n",
    "\n",
    "def merge_ranges(meetings):\n",
    "    \n",
    "    #an easy way to sort a list is by using the python list method sort()\n",
    "    # or another way is sorted() a built in python function\n",
    "    meetings.sort()\n",
    "    print(meetings)# this confirms that the meetings are sorted\n",
    "    \n",
    "    #after this you now know the first beginning meeting time won't conflict\n",
    "    #with the next meeting start time.\n",
    "    \n",
    "    \n",
    "    #And then you can compare the end of the\n",
    "    # previous meeting with the start time of the next meeting.\n",
    "    #if the end of the first meeting is larger than or equal to the start of the second\n",
    "    # you merge\n",
    "    # if the end of the first meeting is less than the second meeting\n",
    "    # you add it to the list\n",
    "    ## this set of code got me down to only 3 tests failing the last 3 tests\n",
    "    merged_meetings =[]\n",
    "    my_iter = iter(range(0, len(meetings)-1))\n",
    "    for first_meeting in my_iter:\n",
    "        first_start, first_end = meetings[first_meeting]\n",
    "        second_start, second_end = meetings[first_meeting+1]\n",
    "        if first_end <second_start:\n",
    "            merged_meetings.append((first_start,first_end))\n",
    "            merged_meetings.append((second_start,second_end))\n",
    "            next(my_iter,None)\n",
    "        if first_end >= second_start and first_end<=second_end:\n",
    "            merged_meetings.append((first_start,second_end))\n",
    "            next(my_iter,None)\n",
    "        elif first_end>second_end:\n",
    "            merged_meetings.append((first_start,first_end))\n",
    "            next(my_iter,None)\n",
    "\n",
    "\n",
    "            \n",
    "        \n",
    "        \n",
    "    return merged_meetings"
   ]
  },
  {
   "cell_type": "code",
   "execution_count": null,
   "metadata": {
    "collapsed": true
   },
   "outputs": [],
   "source": [
    "def merge_ranges(meetings):\n",
    "    \n",
    "    #an easy way to sort a list is by using the python list method sort()\n",
    "    # or another way is sorted() a built in python function\n",
    "    meetings.sort()\n",
    "    print(meetings)# this confirms that the meetings are sorted\n",
    "    \n",
    "    #after this you now know the first beginning meeting time won't conflict\n",
    "    #with the next meeting start time.\n",
    "    \n",
    "    #my solution\n",
    "    merged_meetings =[meetings[0]]\n",
    "    for meeting in meetings[1:]:\n",
    "        test_start, test_end = meeting\n",
    "        start, end = merged_meetings[-1]\n",
    "        if end >= test_start:\n",
    "            if end >=test_end:\n",
    "                continue\n",
    "            merged_meetings[-1] = (start, test_end)\n",
    "\n",
    "        else:\n",
    "            merged_meetings.append((test_start,test_end))\n",
    "\n",
    "\n",
    "\n",
    "\n",
    "            \n",
    "        \n",
    "        \n",
    "    return merged_meetings"
   ]
  },
  {
   "cell_type": "code",
   "execution_count": 4,
   "metadata": {},
   "outputs": [
    {
     "name": "stderr",
     "output_type": "stream",
     "text": [
      "C:\\Users\\jeffk\\AppData\\Roaming\\jupyter\\runtime\\kernel-e611606c-1946-43c7-8489-4979b0b3804d (unittest.loader._FailedTest) ... ERROR\n",
      "\n",
      "======================================================================\n",
      "ERROR: C:\\Users\\jeffk\\AppData\\Roaming\\jupyter\\runtime\\kernel-e611606c-1946-43c7-8489-4979b0b3804d (unittest.loader._FailedTest)\n",
      "----------------------------------------------------------------------\n",
      "AttributeError: module '__main__' has no attribute 'C:\\Users\\jeffk\\AppData\\Roaming\\jupyter\\runtime\\kernel-e611606c-1946-43c7-8489-4979b0b3804d'\n",
      "\n",
      "----------------------------------------------------------------------\n",
      "Ran 1 test in 0.001s\n",
      "\n",
      "FAILED (errors=1)\n"
     ]
    },
    {
     "ename": "SystemExit",
     "evalue": "True",
     "output_type": "error",
     "traceback": [
      "An exception has occurred, use %tb to see the full traceback.\n",
      "\u001b[1;31mSystemExit\u001b[0m\u001b[1;31m:\u001b[0m True\n"
     ]
    },
    {
     "name": "stderr",
     "output_type": "stream",
     "text": [
      "C:\\Users\\jeffk\\Anaconda3\\lib\\site-packages\\IPython\\core\\interactiveshell.py:2870: UserWarning: To exit: use 'exit', 'quit', or Ctrl-D.\n",
      "  warn(\"To exit: use 'exit', 'quit', or Ctrl-D.\", stacklevel=1)\n"
     ]
    }
   ],
   "source": [
    "class Test(unittest.TestCase):\n",
    "\n",
    "    def test_meetings_overlap(self):\n",
    "        actual = merge_ranges([(1, 3), (2, 4)])\n",
    "        expected = [(1, 4)]\n",
    "        self.assertEqual(actual, expected)\n",
    "\n",
    "    def test_meetings_touch(self):\n",
    "        actual = merge_ranges([(5, 6), (6, 8)])\n",
    "        expected = [(5, 8)]\n",
    "        self.assertEqual(actual, expected)\n",
    "\n",
    "    def test_meeting_contains_other_meeting(self):\n",
    "        actual = merge_ranges([(1, 8), (2, 5)])\n",
    "        expected = [(1, 8)]\n",
    "        self.assertEqual(actual, expected)\n",
    "\n",
    "    def test_meetings_stay_separate(self):\n",
    "        actual = merge_ranges([(1, 3), (4, 8)])\n",
    "        expected = [(1, 3), (4, 8)]\n",
    "        self.assertEqual(actual, expected)\n",
    "\n",
    "    def test_multiple_merged_meetings(self):\n",
    "        actual = merge_ranges([(1, 4), (2, 5), (5, 8)])\n",
    "        expected = [(1, 8)]\n",
    "        self.assertEqual(actual, expected)\n",
    "\n",
    "    def test_meetings_not_sorted(self):\n",
    "        actual = merge_ranges([(5, 8), (1, 4), (6, 8)])\n",
    "        expected = [(1, 4), (5, 8)]\n",
    "        self.assertEqual(actual, expected)\n",
    "\n",
    "    def test_one_long_meeting_contains_smaller_meetings(self):\n",
    "        actual = merge_ranges([(1, 10), (2, 5), (6, 8), (9, 10), (10, 12)])\n",
    "        expected = [(1, 12)]\n",
    "        self.assertEqual(actual, expected)\n",
    "\n",
    "    def test_sample_input(self):\n",
    "        actual = merge_ranges([(0, 1), (3, 5), (4, 8), (10, 12), (9, 10)])\n",
    "        expected = [(0, 1), (3, 8), (9, 12)]\n",
    "        self.assertEqual(actual, expected)\n",
    "\n",
    "\n",
    "unittest.main(verbosity=2)"
   ]
  },
  {
   "cell_type": "code",
   "execution_count": null,
   "metadata": {
    "collapsed": true
   },
   "outputs": [],
   "source": []
  }
 ],
 "metadata": {
  "kernelspec": {
   "display_name": "Python 3",
   "language": "python",
   "name": "python3"
  },
  "language_info": {
   "codemirror_mode": {
    "name": "ipython",
    "version": 3
   },
   "file_extension": ".py",
   "mimetype": "text/x-python",
   "name": "python",
   "nbconvert_exporter": "python",
   "pygments_lexer": "ipython3",
   "version": "3.6.3"
  }
 },
 "nbformat": 4,
 "nbformat_minor": 2
}
