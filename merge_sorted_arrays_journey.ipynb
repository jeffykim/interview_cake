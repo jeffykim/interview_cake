{
 "cells": [
  {
   "cell_type": "code",
   "execution_count": 1,
   "metadata": {},
   "outputs": [
    {
     "name": "stdout",
     "output_type": "stream",
     "text": [
      "15\n"
     ]
    }
   ],
   "source": [
    "my_list=[3,4,6,10,11,15]\n",
    "print(my_list.pop())"
   ]
  },
  {
   "cell_type": "code",
   "execution_count": 6,
   "metadata": {},
   "outputs": [
    {
     "name": "stdout",
     "output_type": "stream",
     "text": [
      "1\n"
     ]
    }
   ],
   "source": [
    "test= [1]\n",
    "\n",
    "while(len(test) != 0):\n",
    "    print(test.pop())"
   ]
  },
  {
   "cell_type": "code",
   "execution_count": 7,
   "metadata": {
    "collapsed": true
   },
   "outputs": [],
   "source": [
    "# my first attempt this would be O(nlgn)\n",
    "def merge_lists(my_list, alices_list):\n",
    "\n",
    "    while(len(my_list)!=0):\n",
    "        alices_list.append(my_list.pop())\n",
    "    alices_list.sort()\n",
    "\n",
    "    return alices_list\n"
   ]
  },
  {
   "cell_type": "code",
   "execution_count": 9,
   "metadata": {
    "collapsed": true
   },
   "outputs": [],
   "source": [
    "# the interview cake's  O(n lgn) solution\n",
    "def merge_sorted_lists(arr1, arr2):\n",
    "    return sorted(arr1 + arr2)"
   ]
  },
  {
   "cell_type": "code",
   "execution_count": 10,
   "metadata": {},
   "outputs": [
    {
     "data": {
      "text/plain": [
       "[None]"
      ]
     },
     "execution_count": 10,
     "metadata": {},
     "output_type": "execute_result"
    }
   ],
   "source": [
    "[None]"
   ]
  },
  {
   "cell_type": "code",
   "execution_count": 11,
   "metadata": {},
   "outputs": [
    {
     "name": "stdout",
     "output_type": "stream",
     "text": [
      "[]\n"
     ]
    }
   ],
   "source": [
    "print([])"
   ]
  },
  {
   "cell_type": "code",
   "execution_count": 12,
   "metadata": {},
   "outputs": [
    {
     "name": "stdout",
     "output_type": "stream",
     "text": [
      "[None]\n"
     ]
    }
   ],
   "source": [
    "print([None])"
   ]
  },
  {
   "cell_type": "code",
   "execution_count": 2,
   "metadata": {},
   "outputs": [
    {
     "name": "stdout",
     "output_type": "stream",
     "text": [
      "0\n",
      "1\n",
      "2\n",
      "3\n",
      "we are empty\n"
     ]
    }
   ],
   "source": [
    "my_list=[0,1,2,3]\n",
    "\n",
    "blah= True\n",
    "while(blah==True):\n",
    "    item=my_list.pop(0)\n",
    "    print(item)\n",
    "    if(not(my_list)):\n",
    "        print(\"we are empty\")\n",
    "        blah= False"
   ]
  },
  {
   "cell_type": "code",
   "execution_count": 6,
   "metadata": {},
   "outputs": [
    {
     "name": "stdout",
     "output_type": "stream",
     "text": [
      "None\n"
     ]
    }
   ],
   "source": [
    "new_list=[0,1,2,3]\n",
    "test_list=[None]\n",
    "print(test_list[0])"
   ]
  },
  {
   "cell_type": "code",
   "execution_count": 5,
   "metadata": {
    "collapsed": true
   },
   "outputs": [],
   "source": [
    "\n",
    "def merge_lists(my_list, alices_list):\n",
    "    #determine the size of the new list\n",
    "    new_list_size= len(my_list)+len(alices_list)\n",
    "    print(new_list_size)\n",
    "    #instatiate the list\n",
    "    new_list=[None]*new_list_size\n",
    "    #count will be the index of the new_list index\n",
    "    count = 0\n",
    "    my_count=0\n",
    "    alice_count=0\n",
    "    while(count<new_list_size):\n",
    "\n",
    "        #need to handle 3 edge cases, where alice's list gets exhausted, my list gets exhausted, when a list is exhausted before the merge is complete\n",
    "        #this is a index out of bounds error. Meaning how do you handle that?\n",
    "        # handling edge case 1. when alice's list gets exhausted\n",
    "        if alice_count>=len(alices_list):\n",
    "            new_list[count] = my_list[my_count]\n",
    "            my_count= my_count+1\n",
    "\n",
    "        #handling the edge case 2 when my list gets exhausted\n",
    "\n",
    "        elif my_count>=len(my_list):\n",
    "            new_list[count]= alices_list[alice_count]\n",
    "            alice_count=alice_count+1\n",
    "\n",
    "        elif my_list[my_count]>alices_list[alice_count]:\n",
    "            new_list[count]= alices_list[alice_count]\n",
    "            alice_count=alice_count+1\n",
    "        else:\n",
    "            new_list[count]=my_list[my_count]\n",
    "            my_count= my_count+1\n",
    "\n",
    "\n",
    "        count=count+1\n",
    "\n",
    "\n",
    "\n",
    "    # while(len(my_list)!=0 or len(alices_list) !=0):\n",
    "\n",
    "    #     my_list_item = my_list.pop(0)\n",
    "    #     alices_list_item=alices_list.pop(0)\n",
    "\n",
    "    #more pythonic way would be\n",
    "    # this would be in O(nlgn) time\n",
    "    # new_list= sorted(my_list+alices_list)\n",
    "\n",
    "\n",
    "        \n",
    "    #     my_list_item = my_list[0]\n",
    "    #     alices_list_item = alices_list[0]\n",
    "    #     if my_list_item>alices_list_item:\n",
    "    #         new_list.append(alices_list_item)\n",
    "    #         new_list.append(my_list_item)\n",
    "    #     else:\n",
    "    #         new_list.append(my_list_item)\n",
    "    #         new_list.append(alices_list_item)\n",
    "    #     my_list.pop(0)\n",
    "    #     alices_list.pop(0)\n",
    "    # if(len(my_list)!=0):\n",
    "    #     new_list.append(my_list)\n",
    "    # if(len(alices_list)!=0):\n",
    "    #     new_list.append(alices_list)\n",
    "\n",
    "    return new_list\n",
    "\n",
    "\n",
    "\n",
    "\n",
    "\n",
    "\n"
   ]
  },
  {
   "cell_type": "code",
   "execution_count": 6,
   "metadata": {},
   "outputs": [],
   "source": [
    "import unittest\n",
    "class Test(unittest.TestCase):\n",
    "\n",
    "    def test_both_lists_are_empty(self):\n",
    "        actual = merge_lists([], [])\n",
    "        expected = []\n",
    "        self.assertEqual(actual, expected)\n",
    "\n",
    "    def test_first_list_is_empty(self):\n",
    "        actual = merge_lists([], [1, 2, 3])\n",
    "        expected = [1, 2, 3]\n",
    "        self.assertEqual(actual, expected)\n",
    "\n",
    "    def test_second_list_is_empty(self):\n",
    "        actual = merge_lists([5, 6, 7], [])\n",
    "        expected = [5, 6, 7]\n",
    "        self.assertEqual(actual, expected)\n",
    "\n",
    "    def test_both_lists_have_some_numbers(self):\n",
    "        actual = merge_lists([2, 4, 6], [1, 3, 7])\n",
    "        expected = [1, 2, 3, 4, 6, 7]\n",
    "        self.assertEqual(actual, expected)\n",
    "\n",
    "    def test_lists_are_different_lengths(self):\n",
    "        actual = merge_lists([2, 4, 6, 8], [1, 7])\n",
    "        expected = [1, 2, 4, 6, 7, 8]\n",
    "        self.assertEqual(actual, expected)\n"
   ]
  },
  {
   "cell_type": "code",
   "execution_count": 7,
   "metadata": {},
   "outputs": [
    {
     "name": "stderr",
     "output_type": "stream",
     "text": [
      "test_both_lists_are_empty (__main__.Test) ... ok\n",
      "test_both_lists_have_some_numbers (__main__.Test) ... ok\n",
      "test_first_list_is_empty (__main__.Test) ... ok\n",
      "test_lists_are_different_lengths (__main__.Test) ... ok\n",
      "test_second_list_is_empty (__main__.Test) ... "
     ]
    },
    {
     "name": "stdout",
     "output_type": "stream",
     "text": [
      "0\n",
      "6\n",
      "3\n",
      "6\n",
      "3\n"
     ]
    },
    {
     "name": "stderr",
     "output_type": "stream",
     "text": [
      "ok\n",
      "\n",
      "----------------------------------------------------------------------\n",
      "Ran 5 tests in 0.006s\n",
      "\n",
      "OK\n"
     ]
    }
   ],
   "source": [
    "if __name__=='__main__':\n",
    "    unittest.main(argv=['first-arg-is-ignored'], exit=False,verbosity=2)"
   ]
  },
  {
   "cell_type": "code",
   "execution_count": null,
   "metadata": {
    "collapsed": true
   },
   "outputs": [],
   "source": []
  }
 ],
 "metadata": {
  "kernelspec": {
   "display_name": "Python 3",
   "language": "python",
   "name": "python3"
  },
  "language_info": {
   "codemirror_mode": {
    "name": "ipython",
    "version": 3
   },
   "file_extension": ".py",
   "mimetype": "text/x-python",
   "name": "python",
   "nbconvert_exporter": "python",
   "pygments_lexer": "ipython3",
   "version": "3.6.3"
  }
 },
 "nbformat": 4,
 "nbformat_minor": 2
}
