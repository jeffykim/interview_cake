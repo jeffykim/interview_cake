{
 "cells": [
  {
   "cell_type": "markdown",
   "metadata": {},
   "source": [
    "You've built an inflight entertainment system with on-demand movie streaming.\n",
    "\n",
    "Users on longer flights like to start a second movie right when their first one ends, but they complain that the plane usually lands before they can see the ending. So you're building a feature for choosing two movies whose total runtimes will equal the exact flight length.\n",
    "\n",
    "Write a function that takes an integer flight_length (in minutes) and a list of integers movie_lengths (in minutes) and returns a boolean indicating whether there are two numbers in movie_lengths whose sum equals flight_length.\n",
    "\n",
    "When building your function:\n",
    "\n",
    "Assume your users will watch exactly two movies\n",
    "Don't make your users watch the same movie twice\n",
    "Optimize for runtime over memory"
   ]
  },
  {
   "cell_type": "code",
   "execution_count": 12,
   "metadata": {
    "collapsed": true
   },
   "outputs": [],
   "source": [
    "def can_two_movies_fill_flight(movie_lengths, flight_length):\n",
    "    \n",
    "    # Determine if two movie runtimes add up to the flight length\n",
    "    # need to put the movie lengths into a set\n",
    "    # do a comparison\n",
    "    movie_set= set()\n",
    "    for movie in movie_lengths:\n",
    "        \n",
    "        remaining_length = flight_length-movie\n",
    "        if remaining_length in movie_set:\n",
    "            return True\n",
    "        movie_set.add(movie)\n",
    "    return False\n",
    "\n"
   ]
  },
  {
   "cell_type": "code",
   "execution_count": 13,
   "metadata": {
    "collapsed": true
   },
   "outputs": [],
   "source": [
    "import unittest\n",
    "class Test(unittest.TestCase):\n",
    "\n",
    "    def test_short_flight(self):\n",
    "        result = can_two_movies_fill_flight([2, 4], 1)\n",
    "        self.assertFalse(result)\n",
    "\n",
    "    def test_long_flight(self):\n",
    "        result = can_two_movies_fill_flight([2, 4], 6)\n",
    "        self.assertTrue(result)\n",
    "\n",
    "    def test_one_movie_half_flight_length(self):\n",
    "        result = can_two_movies_fill_flight([3, 8], 6)\n",
    "        self.assertFalse(result)\n",
    "\n",
    "    def test_two_movies_half_flight_length(self):\n",
    "        result = can_two_movies_fill_flight([3, 8, 3], 6)\n",
    "        self.assertTrue(result)\n",
    "\n",
    "    def test_lots_of_possible_pairs(self):\n",
    "        result = can_two_movies_fill_flight([1, 2, 3, 4, 5, 6], 7)\n",
    "        self.assertTrue(result)\n",
    "\n",
    "    def test_not_using_first_movie(self):\n",
    "        result = can_two_movies_fill_flight([4, 3, 2], 5)"
   ]
  },
  {
   "cell_type": "code",
   "execution_count": 14,
   "metadata": {},
   "outputs": [
    {
     "name": "stderr",
     "output_type": "stream",
     "text": [
      "test_long_flight (__main__.Test) ... ok\n",
      "test_lots_of_possible_pairs (__main__.Test) ... ok\n",
      "test_not_using_first_movie (__main__.Test) ... ok\n",
      "test_one_movie_half_flight_length (__main__.Test) ... ok\n",
      "test_short_flight (__main__.Test) ... ok\n",
      "test_two_movies_half_flight_length (__main__.Test) ... ok\n",
      "\n",
      "----------------------------------------------------------------------\n",
      "Ran 6 tests in 0.013s\n",
      "\n",
      "OK\n"
     ]
    }
   ],
   "source": [
    "if __name__=='__main__':\n",
    "    unittest.main(argv=['first-arg-is-ignored'], exit=False,verbosity=2)"
   ]
  },
  {
   "cell_type": "code",
   "execution_count": null,
   "metadata": {
    "collapsed": true
   },
   "outputs": [],
   "source": []
  }
 ],
 "metadata": {
  "kernelspec": {
   "display_name": "Python 3",
   "language": "python",
   "name": "python3"
  },
  "language_info": {
   "codemirror_mode": {
    "name": "ipython",
    "version": 3
   },
   "file_extension": ".py",
   "mimetype": "text/x-python",
   "name": "python",
   "nbconvert_exporter": "python",
   "pygments_lexer": "ipython3",
   "version": "3.6.3"
  }
 },
 "nbformat": 4,
 "nbformat_minor": 2
}
