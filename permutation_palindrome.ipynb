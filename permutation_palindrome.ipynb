{
 "cells": [
  {
   "cell_type": "markdown",
   "metadata": {},
   "source": [
    "Write an efficient function that checks whether any permutation ↴ of an input string is a palindrome. ↴\n",
    "\n",
    "You can assume the input string only contains lowercase letters.\n",
    "\n",
    "Examples:\n",
    "\n",
    "\"civic\" should return True\n",
    "\"ivicc\" should return True\n",
    "\"civil\" should return False\n",
    "\"livci\" should return False\n",
    "\"But 'ivicc' isn't a palindrome!\"\n",
    "\n",
    "If you had this thought, read the question again carefully. We're asking if any permutation of the string is a palindrome. Spend some extra time ensuring you fully understand the question before starting. Jumping in with a flawed understanding of the problem doesn't look good in an interview."
   ]
  },
  {
   "cell_type": "code",
   "execution_count": 24,
   "metadata": {
    "collapsed": true
   },
   "outputs": [],
   "source": [
    "def has_palindrome_permutation(the_string):\n",
    "\n",
    "    # Check if any permutation of the input is a palindrome\n",
    "    # if the length of the string is odd then there should be one odd number of characters if not then its not a palindrome\n",
    "    # the way to break down this problem is take the string and see if there is an even number of characters.\n",
    "    # if there are then you have a palindrome\n",
    "    \n",
    "    set_of_odd_characters= set()\n",
    "    for character in the_string:\n",
    "        if character in set_of_odd_characters:\n",
    "            set_of_odd_characters.remove(character)\n",
    "        else:\n",
    "            set_of_odd_characters.add(character)\n",
    "    \n",
    "    print(set_of_odd_characters)\n",
    "       \n",
    "    \n",
    "    length_of_string = len(the_string)\n",
    "    if len(set_of_odd_characters)==0 or (length_of_string%2 !=0 and len(set_of_odd_characters)==1):\n",
    "        return True\n",
    "\n",
    "    return False \n",
    "\n"
   ]
  },
  {
   "cell_type": "code",
   "execution_count": 25,
   "metadata": {},
   "outputs": [
    {
     "name": "stdout",
     "output_type": "stream",
     "text": [
      "{'c', 'd'}\n"
     ]
    },
    {
     "data": {
      "text/plain": [
       "False"
      ]
     },
     "execution_count": 25,
     "metadata": {},
     "output_type": "execute_result"
    }
   ],
   "source": [
    "has_palindrome_permutation('aabbcd')"
   ]
  },
  {
   "cell_type": "code",
   "execution_count": 26,
   "metadata": {
    "collapsed": true
   },
   "outputs": [],
   "source": [
    "import unittest\n",
    "class Test(unittest.TestCase):\n",
    "\n",
    "    def test_permutation_with_odd_number_of_chars(self):\n",
    "        result = has_palindrome_permutation('aabcbcd')\n",
    "        self.assertTrue(result)\n",
    "\n",
    "    def test_permutation_with_even_number_of_chars(self):\n",
    "        result = has_palindrome_permutation('aabccbdd')\n",
    "        self.assertTrue(result)\n",
    "\n",
    "    def test_no_permutation_with_odd_number_of_chars(self):\n",
    "        result = has_palindrome_permutation('aabcd')\n",
    "        self.assertFalse(result)\n",
    "\n",
    "    def test_no_permutation_with_even_number_of_chars(self):\n",
    "        result = has_palindrome_permutation('aabbcd')\n",
    "        self.assertFalse(result)\n",
    "\n",
    "    def test_empty_string(self):\n",
    "        result = has_palindrome_permutation('')\n",
    "        self.assertTrue(result)\n",
    "\n",
    "    def test_one_character_string(self):\n",
    "        result = has_palindrome_permutation('a')\n",
    "        self.assertTrue(result)\n"
   ]
  },
  {
   "cell_type": "code",
   "execution_count": 29,
   "metadata": {},
   "outputs": [
    {
     "name": "stderr",
     "output_type": "stream",
     "text": [
      "test_empty_string (__main__.Test) ... ok\n",
      "test_no_permutation_with_even_number_of_chars (__main__.Test) ... ok\n",
      "test_no_permutation_with_odd_number_of_chars (__main__.Test) ... ok\n",
      "test_one_character_string (__main__.Test) ... ok\n",
      "test_permutation_with_even_number_of_chars (__main__.Test) ... ok\n",
      "test_permutation_with_odd_number_of_chars (__main__.Test) ... "
     ]
    },
    {
     "name": "stdout",
     "output_type": "stream",
     "text": [
      "set()\n",
      "{'c', 'd'}\n",
      "{'d', 'b', 'c'}\n",
      "{'a'}\n",
      "set()\n",
      "{'d'}\n"
     ]
    },
    {
     "name": "stderr",
     "output_type": "stream",
     "text": [
      "ok\n",
      "\n",
      "----------------------------------------------------------------------\n",
      "Ran 6 tests in 0.017s\n",
      "\n",
      "OK\n"
     ]
    }
   ],
   "source": [
    "if __name__=='__main__':\n",
    "    unittest.main(argv=['first-arg-is-ignored'], exit=False,verbosity=2)"
   ]
  },
  {
   "cell_type": "code",
   "execution_count": null,
   "metadata": {
    "collapsed": true
   },
   "outputs": [],
   "source": []
  },
  {
   "cell_type": "code",
   "execution_count": null,
   "metadata": {
    "collapsed": true
   },
   "outputs": [],
   "source": []
  }
 ],
 "metadata": {
  "kernelspec": {
   "display_name": "Python 3",
   "language": "python",
   "name": "python3"
  },
  "language_info": {
   "codemirror_mode": {
    "name": "ipython",
    "version": 3
   },
   "file_extension": ".py",
   "mimetype": "text/x-python",
   "name": "python",
   "nbconvert_exporter": "python",
   "pygments_lexer": "ipython3",
   "version": "3.6.3"
  }
 },
 "nbformat": 4,
 "nbformat_minor": 2
}
