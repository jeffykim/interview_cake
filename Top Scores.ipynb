{
 "cells": [
  {
   "cell_type": "markdown",
   "metadata": {},
   "source": [
    "# You created a game that is more popular than Angry Birds.\n",
    "\n",
    "Each round, players receive a score between 0 and 100, which you use to rank them from highest to lowest. So far you're using an algorithm that sorts in O(nlgn) time, but players are complaining that their rankings aren't updated fast enough. You need a faster sorting algorithm.\n",
    "\n",
    "Write a function that takes:\n",
    "\n",
    "a list of unsorted_scores\n",
    "the highest_possible_score in the game\n",
    "and returns a sorted list of scores in less than O(nlgn) time.\n",
    "\n",
    "For example: \n",
    "\n",
    "  unsorted_scores = [37, 89, 41, 65, 91, 53]\n",
    "HIGHEST_POSSIBLE_SCORE = 100\n",
    "\n",
    "# Returns [91, 89, 65, 53, 41, 37]\n",
    "sort_scores(unsorted_scores, HIGHEST_POSSIBLE_SCORE)\n",
    "\n",
    "We’re defining nn as the number of unsorted_scores because we’re expecting the number of players to keep climbing.\n",
    "\n",
    "And, we'll treat highest_possible_score as a constant instead of factoring it into our big O time and space costs because the highest possible score isn’t going to change. Even if we do redesign the game a little, the scores will stay around the same order of magnitude."
   ]
  },
  {
   "cell_type": "markdown",
   "metadata": {},
   "source": [
    "What are some common ways to run in constant time? or time of O(n)?\n",
    "This is by using counting. you set a dictionary and then you count how many times that value appears. "
   ]
  },
  {
   "cell_type": "code",
   "execution_count": 5,
   "metadata": {},
   "outputs": [],
   "source": [
    "def sort_scores(unsorted_scores, highest_possible_score):\n",
    "\n",
    "    # Sort the scores in O(n) time\n",
    "\n",
    "    count = [0]*highest_possible_score\n",
    "    \n",
    "    for score in unsorted_scores:\n",
    "        count[score] +=1\n",
    "    sorted_score = []    \n",
    "    i = len(count)-1\n",
    "    while i>=0:\n",
    "        if count[i]==0:\n",
    "            i-=1\n",
    "            continue\n",
    "        else:\n",
    "            for j in range(count[i]):\n",
    "                sorted_score.append(i)\n",
    "            i-=1\n",
    "            \n",
    "    return sorted_score\n",
    "\n"
   ]
  },
  {
   "cell_type": "code",
   "execution_count": 6,
   "metadata": {},
   "outputs": [
    {
     "name": "stderr",
     "output_type": "stream",
     "text": [
      "test_many_scores (__main__.Test) ... ok\n",
      "test_no_scores (__main__.Test) ... ok\n",
      "test_one_score (__main__.Test) ... ok\n",
      "test_repeated_scores (__main__.Test) ... ok\n",
      "test_two_scores (__main__.Test) ... ok\n",
      "\n",
      "----------------------------------------------------------------------\n",
      "Ran 5 tests in 0.005s\n",
      "\n",
      "OK\n"
     ]
    }
   ],
   "source": [
    "import unittest\n",
    "class Test(unittest.TestCase):\n",
    "\n",
    "    def test_no_scores(self):\n",
    "        actual = sort_scores([], 100)\n",
    "        expected = []\n",
    "        self.assertEqual(actual, expected)\n",
    "\n",
    "    def test_one_score(self):\n",
    "        actual = sort_scores([55], 100)\n",
    "        expected = [55]\n",
    "        self.assertEqual(actual, expected)\n",
    "\n",
    "    def test_two_scores(self):\n",
    "        actual = sort_scores([30, 60], 100)\n",
    "        expected = [60, 30]\n",
    "        self.assertEqual(actual, expected)\n",
    "\n",
    "    def test_many_scores(self):\n",
    "        actual = sort_scores([37, 89, 41, 65, 91, 53], 100)\n",
    "        expected = [91, 89, 65, 53, 41, 37]\n",
    "        self.assertEqual(actual, expected)\n",
    "\n",
    "    def test_repeated_scores(self):\n",
    "        actual = sort_scores([20, 10, 30, 30, 10, 20], 100)\n",
    "        expected = [30, 30, 20, 20, 10, 10]\n",
    "        self.assertEqual(actual, expected)\n",
    "\n",
    "if __name__ ==\"__main__\":\n",
    "    unittest.main(argv=['first-arg-is-ignored'], exit=False, verbosity=2)"
   ]
  },
  {
   "cell_type": "code",
   "execution_count": null,
   "metadata": {
    "collapsed": true
   },
   "outputs": [],
   "source": []
  }
 ],
 "metadata": {
  "kernelspec": {
   "display_name": "Python 3",
   "language": "python",
   "name": "python3"
  },
  "language_info": {
   "codemirror_mode": {
    "name": "ipython",
    "version": 3
   },
   "file_extension": ".py",
   "mimetype": "text/x-python",
   "name": "python",
   "nbconvert_exporter": "python",
   "pygments_lexer": "ipython3",
   "version": "3.6.3"
  }
 },
 "nbformat": 4,
 "nbformat_minor": 2
}
