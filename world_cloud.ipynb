{
 "cells": [
  {
   "cell_type": "markdown",
   "metadata": {
    "collapsed": true
   },
   "source": [
    "You want to build a word cloud, an infographic where the size of a word corresponds to how often it appears in the body of text."
   ]
  },
  {
   "cell_type": "code",
   "execution_count": 24,
   "metadata": {},
   "outputs": [],
   "source": [
    "class WordCloudData(object):\n",
    "\n",
    "    def __init__(self, input_string):\n",
    "        self.words_to_counts = {}\n",
    "        # Count the frequency of each word\n",
    "        words = split_words(input_string)\n",
    "        \n",
    "        \n",
    "        for word in words:\n",
    "            if word in self.words_to_counts:\n",
    "                self.words_to_counts[word]=self.words_to_counts[word]+1\n",
    "            else:\n",
    "                self.words_to_counts[word]=1\n"
   ]
  },
  {
   "cell_type": "code",
   "execution_count": 25,
   "metadata": {
    "collapsed": true
   },
   "outputs": [],
   "source": [
    "def split_words(string):\n",
    "        start = 0\n",
    "        end = 0\n",
    "        words = []\n",
    "        for index, character in enumerate(string):\n",
    "            if character.isalpha():\n",
    "                continue\n",
    "            else:\n",
    "                end=index\n",
    "                words.append(string[start:end])\n",
    "                start=end+1\n",
    "        return words"
   ]
  },
  {
   "cell_type": "code",
   "execution_count": 26,
   "metadata": {},
   "outputs": [
    {
     "name": "stdout",
     "output_type": "stream",
     "text": [
      "{'I': 1, 'like': 1}\n"
     ]
    }
   ],
   "source": [
    "input = 'I like cake'\n",
    "word_cloud = WordCloudData(input)\n",
    "\n",
    "print(word_cloud.words_to_counts)"
   ]
  },
  {
   "cell_type": "code",
   "execution_count": 47,
   "metadata": {
    "collapsed": true
   },
   "outputs": [],
   "source": [
    "#This is from interview cake\n",
    "def split_words(input_string):\n",
    "    words = []\n",
    "    current_word_start_index = 0\n",
    "    current_word_length = 0\n",
    "\n",
    "    for i, char in enumerate(input_string):\n",
    "        if char.isalpha():\n",
    "            if current_word_length == 0:\n",
    "                current_word_start_index = i\n",
    "            current_word_length += 1\n",
    "        else:\n",
    "            word = input_string[current_word_start_index: current_word_start_index + current_word_length]\n",
    "            words.append(word)\n",
    "            current_word_length = 0\n",
    "\n",
    "    return words"
   ]
  },
  {
   "cell_type": "code",
   "execution_count": null,
   "metadata": {
    "collapsed": true
   },
   "outputs": [],
   "source": [
    "import unittest\n",
    "class Test(unittest.TestCase):\n",
    "\n",
    "    def test_simple_sentence(self):\n",
    "        input = 'I like cake'\n",
    "\n",
    "        word_cloud = WordCloudData(input)\n",
    "        actual = word_cloud.words_to_counts\n",
    "\n",
    "        expected = {'I': 1, 'like': 1, 'cake': 1}\n",
    "        self.assertEqual(actual, expected)\n",
    "\n",
    "    def test_longer_sentence(self):\n",
    "        input = 'Chocolate cake for dinner and pound cake for dessert'\n",
    "\n",
    "        word_cloud = WordCloudData(input)\n",
    "        actual = word_cloud.words_to_counts\n",
    "\n",
    "        expected = {\n",
    "            'and': 1,\n",
    "            'pound': 1,\n",
    "            'for': 2,\n",
    "            'dessert': 1,\n",
    "            'Chocolate': 1,\n",
    "            'dinner': 1,\n",
    "            'cake': 2,\n",
    "        }\n",
    "        self.assertEqual(actual, expected)\n",
    "\n",
    "    def test_punctuation(self):\n",
    "        input = 'Strawberry short cake? Yum!'\n",
    "\n",
    "        word_cloud = WordCloudData(input)\n",
    "        actual = word_cloud.words_to_counts\n",
    "\n",
    "        expected = {'cake': 1, 'Strawberry': 1, 'short': 1, 'Yum': 1}\n",
    "        self.assertEqual(actual, expected)\n",
    "\n",
    "    def test_hyphenated_words(self):\n",
    "        input = 'Dessert - mille-feuille cake'\n",
    "\n",
    "        word_cloud = WordCloudData(input)\n",
    "        actual = word_cloud.words_to_counts\n",
    "\n",
    "        expected = {'cake': 1, 'Dessert': 1, 'mille-feuille': 1}\n",
    "        self.assertEqual(actual, expected)\n",
    "\n",
    "    def test_ellipses_between_words(self):\n",
    "        input = 'Mmm...mmm...decisions...decisions'\n",
    "\n",
    "        word_cloud = WordCloudData(input)\n",
    "        actual = word_cloud.words_to_counts\n",
    "\n",
    "        expected = {'mmm': 2, 'decisions': 2}\n",
    "        self.assertEqual(actual, expected)\n",
    "\n",
    "    def test_apostrophes(self):\n",
    "        input = \"Allie's Bakery: Sasha's Cakes\"\n",
    "\n",
    "        word_cloud = WordCloudData(input)\n",
    "        actual = word_cloud.words_to_counts\n",
    "\n",
    "        expected = {\"Bakery\": 1, \"Cakes\": 1, \"Allie's\": 1, \"Sasha's\": 1}\n",
    "        self.assertEqual(actual, expected)\n"
   ]
  },
  {
   "cell_type": "code",
   "execution_count": null,
   "metadata": {
    "collapsed": true
   },
   "outputs": [],
   "source": [
    "if __name__=='__main__':\n",
    "    unittest.main(argv=['first-arg-is-ignored'], exit=False,verbosity=2)"
   ]
  }
 ],
 "metadata": {
  "kernelspec": {
   "display_name": "Python 3",
   "language": "python",
   "name": "python3"
  },
  "language_info": {
   "codemirror_mode": {
    "name": "ipython",
    "version": 3
   },
   "file_extension": ".py",
   "mimetype": "text/x-python",
   "name": "python",
   "nbconvert_exporter": "python",
   "pygments_lexer": "ipython3",
   "version": "3.6.3"
  }
 },
 "nbformat": 4,
 "nbformat_minor": 2
}
